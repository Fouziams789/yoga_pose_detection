{
 "cells": [
  {
   "cell_type": "code",
   "execution_count": 1,
   "id": "8a6f86f0",
   "metadata": {},
   "outputs": [],
   "source": [
    "import mediapipe as mp#framework for pose estimation\n",
    "import cv2 #opencv library for image processing\n",
    "import time"
   ]
  },
  {
   "cell_type": "code",
   "execution_count": 2,
   "id": "fea62f84",
   "metadata": {},
   "outputs": [],
   "source": [
    "#creating model to detect our pose\n",
    "mp_pose = mp.solutions.pose\n",
    "mypose = mp_pose.Pose()\n",
    "mp_draw = mp.solutions.drawing_utils"
   ]
  },
  {
   "cell_type": "code",
   "execution_count": 3,
   "id": "9aa2034e",
   "metadata": {},
   "outputs": [],
   "source": [
    "class detectPose():\n",
    "    def __init__(self, mode = False, complexity = 1, smooth = True, esegment = False, ssegment = True ,detconf = 0.5, trackconf = 0.5):\n",
    "        self.mode = mode\n",
    "        self.complexity = ssegment\n",
    "        self.smooth = smooth\n",
    "        self.esegment = esegment\n",
    "        self.ssegment = ssegment\n",
    "        self.detconf = detconf\n",
    "        self.trackconf = trackconf\n",
    "        self.mp_pose = mp.solutions.pose\n",
    "        self.mypose = mp_pose.Pose(self.mode,self.smooth,self.esegment,self.ssegment,self.detconf,self.trackconf)\n",
    "        self.mp_draw = mp.solutions.drawing_utils\n",
    "        \n",
    "    def findpose(self,img,disp=True):\n",
    "        #convert bgr image to rgb\n",
    "        rgb_img = cv2.cvtColor(img, cv2.COLOR_BGR2RGB)\n",
    "        res = mypose.process(rgb_img)\n",
    "        #printing landmarks\n",
    "        #print(res.pose_landmarks)\n",
    "        if res.pose_landmarks:\n",
    "            if disp:\n",
    "                #drawing the landmarks and connecting the coordinates\n",
    "                self.mp_draw.draw_landmarks(img, res.pose_landmarks, self.mp_pose.POSE_CONNECTIONS)\n",
    "        return img\n",
    "        \n",
    "        #to detect the \n",
    "        #for id,lm in enumerate(res.pose_landmarks.landmark):\n",
    "        #    hgt,wdt,channel = img.shape\n",
    "        #    print(id,lm) #printing the id and corresponding landmark\n",
    "        #    \n",
    "        #    #getting the coordinates and converting to pixel values\n",
    "        #    x,y = int(lm.x*wdt), int(lm.y*hgt)\n",
    "        #    \n",
    "        #    #to test whether the pixels represents coordinates properly\n",
    "        #    cv2.circle(img, (x,y), 5, (255,0,0), cv2.FILLED)"
   ]
  },
  {
   "cell_type": "code",
   "execution_count": 4,
   "id": "49d475cc",
   "metadata": {},
   "outputs": [],
   "source": [
    "def main():\n",
    "    cap = cv2.VideoCapture('pose2.mp4') #read video\n",
    "    prev_time = 0\n",
    "    detector = detectPose()\n",
    "    while True:\n",
    "        suc, img = cap.read() #returns 1 image at a time\n",
    "        img = detector.findpose(img)\n",
    "        \n",
    "        curr_time = time.time()\n",
    "        fps = 1/(curr_time-prev_time) \n",
    "        prev_time = curr_time\n",
    "        \n",
    "        cv2.putText(img,str(int(fps)),(70,50), cv2.FONT_HERSHEY_PLAIN,3,(255,0,0),3)\n",
    "        imS = cv2.resize(img, (960, 540)) #resize the window\n",
    "        \n",
    "        cv2.imshow(\"Image\", imS)\n",
    "        if cv2.waitKey(1) & 0xFF == ord('q'):\n",
    "            break"
   ]
  },
  {
   "cell_type": "code",
   "execution_count": 5,
   "id": "916676db",
   "metadata": {},
   "outputs": [
    {
     "ename": "error",
     "evalue": "OpenCV(4.5.5) D:\\a\\opencv-python\\opencv-python\\opencv\\modules\\imgproc\\src\\color.cpp:182: error: (-215:Assertion failed) !_src.empty() in function 'cv::cvtColor'\n",
     "output_type": "error",
     "traceback": [
      "\u001b[1;31m---------------------------------------------------------------------------\u001b[0m",
      "\u001b[1;31merror\u001b[0m                                     Traceback (most recent call last)",
      "Input \u001b[1;32mIn [5]\u001b[0m, in \u001b[0;36m<module>\u001b[1;34m\u001b[0m\n\u001b[0;32m      1\u001b[0m \u001b[38;5;28;01mif\u001b[39;00m \u001b[38;5;18m__name__\u001b[39m \u001b[38;5;241m==\u001b[39m \u001b[38;5;124m\"\u001b[39m\u001b[38;5;124m__main__\u001b[39m\u001b[38;5;124m\"\u001b[39m:\n\u001b[1;32m----> 2\u001b[0m     \u001b[43mmain\u001b[49m\u001b[43m(\u001b[49m\u001b[43m)\u001b[49m\n",
      "Input \u001b[1;32mIn [4]\u001b[0m, in \u001b[0;36mmain\u001b[1;34m()\u001b[0m\n\u001b[0;32m      5\u001b[0m \u001b[38;5;28;01mwhile\u001b[39;00m \u001b[38;5;28;01mTrue\u001b[39;00m:\n\u001b[0;32m      6\u001b[0m     suc, img \u001b[38;5;241m=\u001b[39m cap\u001b[38;5;241m.\u001b[39mread() \u001b[38;5;66;03m#returns 1 image at a time\u001b[39;00m\n\u001b[1;32m----> 7\u001b[0m     img \u001b[38;5;241m=\u001b[39m \u001b[43mdetector\u001b[49m\u001b[38;5;241;43m.\u001b[39;49m\u001b[43mfindpose\u001b[49m\u001b[43m(\u001b[49m\u001b[43mimg\u001b[49m\u001b[43m)\u001b[49m\n\u001b[0;32m      9\u001b[0m     curr_time \u001b[38;5;241m=\u001b[39m time\u001b[38;5;241m.\u001b[39mtime()\n\u001b[0;32m     10\u001b[0m     fps \u001b[38;5;241m=\u001b[39m \u001b[38;5;241m1\u001b[39m\u001b[38;5;241m/\u001b[39m(curr_time\u001b[38;5;241m-\u001b[39mprev_time) \n",
      "Input \u001b[1;32mIn [3]\u001b[0m, in \u001b[0;36mdetectPose.findpose\u001b[1;34m(self, img, disp)\u001b[0m\n\u001b[0;32m     14\u001b[0m \u001b[38;5;28;01mdef\u001b[39;00m \u001b[38;5;21mfindpose\u001b[39m(\u001b[38;5;28mself\u001b[39m,img,disp\u001b[38;5;241m=\u001b[39m\u001b[38;5;28;01mTrue\u001b[39;00m):\n\u001b[0;32m     15\u001b[0m     \u001b[38;5;66;03m#convert bgr image to rgb\u001b[39;00m\n\u001b[1;32m---> 16\u001b[0m     rgb_img \u001b[38;5;241m=\u001b[39m \u001b[43mcv2\u001b[49m\u001b[38;5;241;43m.\u001b[39;49m\u001b[43mcvtColor\u001b[49m\u001b[43m(\u001b[49m\u001b[43mimg\u001b[49m\u001b[43m,\u001b[49m\u001b[43m \u001b[49m\u001b[43mcv2\u001b[49m\u001b[38;5;241;43m.\u001b[39;49m\u001b[43mCOLOR_BGR2RGB\u001b[49m\u001b[43m)\u001b[49m\n\u001b[0;32m     17\u001b[0m     res \u001b[38;5;241m=\u001b[39m mypose\u001b[38;5;241m.\u001b[39mprocess(rgb_img)\n\u001b[0;32m     18\u001b[0m     \u001b[38;5;66;03m#printing landmarks\u001b[39;00m\n\u001b[0;32m     19\u001b[0m     \u001b[38;5;66;03m#print(res.pose_landmarks)\u001b[39;00m\n",
      "\u001b[1;31merror\u001b[0m: OpenCV(4.5.5) D:\\a\\opencv-python\\opencv-python\\opencv\\modules\\imgproc\\src\\color.cpp:182: error: (-215:Assertion failed) !_src.empty() in function 'cv::cvtColor'\n"
     ]
    }
   ],
   "source": [
    "if __name__ == \"__main__\":\n",
    "    main()"
   ]
  },
  {
   "cell_type": "code",
   "execution_count": null,
   "id": "d557029c",
   "metadata": {},
   "outputs": [],
   "source": []
  }
 ],
 "metadata": {
  "kernelspec": {
   "display_name": "Python 3 (ipykernel)",
   "language": "python",
   "name": "python3"
  },
  "language_info": {
   "codemirror_mode": {
    "name": "ipython",
    "version": 3
   },
   "file_extension": ".py",
   "mimetype": "text/x-python",
   "name": "python",
   "nbconvert_exporter": "python",
   "pygments_lexer": "ipython3",
   "version": "3.8.5"
  }
 },
 "nbformat": 4,
 "nbformat_minor": 5
}
